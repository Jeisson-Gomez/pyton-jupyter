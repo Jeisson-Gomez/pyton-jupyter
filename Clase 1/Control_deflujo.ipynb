{
 "cells": [
  {
   "cell_type": "code",
   "execution_count": 3,
   "id": "34706f69",
   "metadata": {},
   "outputs": [
    {
     "name": "stdout",
     "output_type": "stream",
     "text": [
      "Stay Home\n"
     ]
    }
   ],
   "source": [
    "# if\n",
    "x, y = 12, 20\n",
    "if x > y :\n",
    "    print('{} es mayor a {}'.format(x, y))\n",
    "\n",
    "list_frends = [ ]\n",
    "beach_name = [ ]\n",
    "\n",
    "seasion = 'winter'\n",
    "if seasion == 'summer':\n",
    "    print('Go to the beach')\n",
    "    list_frends = ['Carmen', 'Jose']\n",
    "    beach_name = 'Rio de Janeireo'\n",
    "else:\n",
    "    print('Stay Home')\n",
    "# print(list_frends)\n",
    "# print(beach_name)"
   ]
  },
  {
   "cell_type": "code",
   "execution_count": 5,
   "id": "2212017b",
   "metadata": {},
   "outputs": [
    {
     "name": "stdout",
     "output_type": "stream",
     "text": [
      "Presupuesto Total 1500\n"
     ]
    }
   ],
   "source": [
    "Budget = 500\n",
    "Holidays = 'India'\n",
    "\n",
    "if Holidays == 'New York':\n",
    "    Budget = 1000\n",
    "elif Holidays == 'Brazil':\n",
    "    Budget = 2000\n",
    "elif Holidays == 'India':\n",
    "    Budget = 1500\n",
    "else:\n",
    "    Budget = 500\n",
    "\n",
    "print('Presupuesto Total {}'.format (Budget))"
   ]
  }
 ],
 "metadata": {
  "kernelspec": {
   "display_name": "Python 3",
   "language": "python",
   "name": "python3"
  },
  "language_info": {
   "codemirror_mode": {
    "name": "ipython",
    "version": 3
   },
   "file_extension": ".py",
   "mimetype": "text/x-python",
   "name": "python",
   "nbconvert_exporter": "python",
   "pygments_lexer": "ipython3",
   "version": "3.12.10"
  }
 },
 "nbformat": 4,
 "nbformat_minor": 5
}
