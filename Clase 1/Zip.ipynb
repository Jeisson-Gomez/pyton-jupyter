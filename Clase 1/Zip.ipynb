{
 "cells": [
  {
   "cell_type": "code",
   "execution_count": 4,
   "id": "5693e12d",
   "metadata": {},
   "outputs": [
    {
     "name": "stdout",
     "output_type": "stream",
     "text": [
      "[('HTTP OK', 'main.html'), ('HTTP NOT FOUND', 'index.html')]\n",
      "('HTTP OK', 'HTTP NOT FOUND') ('main.html', 'index.html')\n"
     ]
    }
   ],
   "source": [
    "Status_Logs = ['HTTP OK', 'HTTP NOT FOUND']\n",
    "Page_Logs = ['main.html', 'index.html']\n",
    "\n",
    "# for Status, page in zip(Status_Logs, Page_Logs):\n",
    "#    print(Status,page)\n",
    "\n",
    "List_logs = list(zip(Status_Logs, Page_Logs))\n",
    "print(List_logs)\n",
    "\n",
    "tuple_Status, tuple_page = zip(*List_logs)\n",
    "print(tuple_Status, tuple_page)"
   ]
  },
  {
   "cell_type": "code",
   "execution_count": 6,
   "id": "ba78f02a",
   "metadata": {},
   "outputs": [
    {
     "name": "stdout",
     "output_type": "stream",
     "text": [
      "Japon - Tokyo\n",
      "Colombia - Bogota\n",
      "Jamaica - kingston\n"
     ]
    }
   ],
   "source": [
    "Countries = ['Japon', 'Colombia', 'Jamaica']\n",
    "Capital = ['Tokyo', 'Bogota', 'kingston']\n",
    "\n",
    "for country, Capital in zip(Countries, Capital):\n",
    "    print(country, '-', Capital)"
   ]
  }
 ],
 "metadata": {
  "kernelspec": {
   "display_name": "Python 3",
   "language": "python",
   "name": "python3"
  },
  "language_info": {
   "codemirror_mode": {
    "name": "ipython",
    "version": 3
   },
   "file_extension": ".py",
   "mimetype": "text/x-python",
   "name": "python",
   "nbconvert_exporter": "python",
   "pygments_lexer": "ipython3",
   "version": "3.12.10"
  }
 },
 "nbformat": 4,
 "nbformat_minor": 5
}
