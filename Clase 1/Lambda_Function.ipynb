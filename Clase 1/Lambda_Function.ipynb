{
 "cells": [
  {
   "cell_type": "markdown",
   "id": "e580baa9",
   "metadata": {},
   "source": [
    "Lambda\n"
   ]
  },
  {
   "cell_type": "code",
   "execution_count": 1,
   "id": "5a2e5146",
   "metadata": {},
   "outputs": [
    {
     "data": {
      "text/plain": [
       "15"
      ]
     },
     "execution_count": 1,
     "metadata": {},
     "output_type": "execute_result"
    }
   ],
   "source": [
    "def multipy (x):\n",
    "    return x * 5\n",
    "\n",
    "multipy(3)"
   ]
  },
  {
   "cell_type": "code",
   "execution_count": 4,
   "id": "4cea32e4",
   "metadata": {},
   "outputs": [
    {
     "data": {
      "text/plain": [
       "15"
      ]
     },
     "execution_count": 4,
     "metadata": {},
     "output_type": "execute_result"
    }
   ],
   "source": [
    "multipy_lambda = lambda x: x * 5\n",
    "multipy_lambda(3)"
   ]
  },
  {
   "cell_type": "code",
   "execution_count": null,
   "id": "774de5b7",
   "metadata": {},
   "outputs": [
    {
     "data": {
      "text/plain": [
       "False"
      ]
     },
     "execution_count": 5,
     "metadata": {},
     "output_type": "execute_result"
    }
   ],
   "source": [
    "divisible = lambda x, y : x % y == 0\n",
    "divisible (32, 5)"
   ]
  },
  {
   "cell_type": "markdown",
   "id": "aaf5f1a7",
   "metadata": {},
   "source": [
    "Filter"
   ]
  },
  {
   "cell_type": "code",
   "execution_count": 9,
   "id": "99ac82c7",
   "metadata": {},
   "outputs": [
    {
     "data": {
      "text/plain": [
       "[4, 6, 2]"
      ]
     },
     "execution_count": 9,
     "metadata": {},
     "output_type": "execute_result"
    }
   ],
   "source": [
    "Numbers = [4, 6, 9, 2]\n",
    "\n",
    "def multiple_dos(x):\n",
    "    return x % 2 == 0\n",
    "\n",
    "list (filter(multiple_dos, Numbers))\n",
    "\n",
    "list(filter(lambda x: x % 2 == 0, Numbers))"
   ]
  },
  {
   "cell_type": "code",
   "execution_count": null,
   "id": "15766f63",
   "metadata": {},
   "outputs": [],
   "source": [
    "Map"
   ]
  },
  {
   "cell_type": "code",
   "execution_count": null,
   "id": "710ea8ac",
   "metadata": {},
   "outputs": [
    {
     "data": {
      "text/plain": [
       "[24, 36, 54, 12]"
      ]
     },
     "execution_count": 14,
     "metadata": {},
     "output_type": "execute_result"
    }
   ],
   "source": [
    "numbers = [4, 6, 9, 2]\n",
    "\n",
    "def multiple_dos(x):\n",
    "    return x % 2 == 0\n",
    "\n",
    "\n",
    "# list(map(multiple_dos, numbers))\n",
    "\n",
    "list (map(lambda x: x * 6, numbers))"
   ]
  },
  {
   "cell_type": "code",
   "execution_count": 22,
   "id": "36d5e79d",
   "metadata": {},
   "outputs": [
    {
     "name": "stdout",
     "output_type": "stream",
     "text": [
      "['Mary', 'Food', 'Laptop', 'Jose']\n"
     ]
    }
   ],
   "source": [
    "things = ('Mary', 'Food', 'Laptop', 'Jose')\n",
    "# filter\n",
    "\n",
    "names = list(filter(lambda x: x[0].isupper(), things))\n",
    "print(names)\n",
    "\n"
   ]
  }
 ],
 "metadata": {
  "kernelspec": {
   "display_name": "base",
   "language": "python",
   "name": "python3"
  },
  "language_info": {
   "codemirror_mode": {
    "name": "ipython",
    "version": 3
   },
   "file_extension": ".py",
   "mimetype": "text/x-python",
   "name": "python",
   "nbconvert_exporter": "python",
   "pygments_lexer": "ipython3",
   "version": "3.13.5"
  }
 },
 "nbformat": 4,
 "nbformat_minor": 5
}
