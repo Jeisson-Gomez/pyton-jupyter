{
 "cells": [
  {
   "cell_type": "code",
   "execution_count": 1,
   "id": "f0efdf72",
   "metadata": {},
   "outputs": [
    {
     "name": "stdout",
     "output_type": "stream",
     "text": [
      "False\n"
     ]
    }
   ],
   "source": [
    "# and\n",
    "age = 40\n",
    "is_adult = age > 16 and age < 60\n",
    "\n",
    "user, password = 'root', ' 123'\n",
    "is_login = user == 'admin' and password == '123'\n",
    "\n",
    "print(is_login)"
   ]
  },
  {
   "cell_type": "code",
   "execution_count": 2,
   "id": "a0885ea8",
   "metadata": {},
   "outputs": [
    {
     "name": "stdout",
     "output_type": "stream",
     "text": [
      "False\n"
     ]
    }
   ],
   "source": [
    "# or\n",
    "name = 'Mary'\n",
    "is_student = name == 'Paul' or name == 'Mark'\n",
    "print(is_student)"
   ]
  }
 ],
 "metadata": {
  "kernelspec": {
   "display_name": "base",
   "language": "python",
   "name": "python3"
  },
  "language_info": {
   "codemirror_mode": {
    "name": "ipython",
    "version": 3
   },
   "file_extension": ".py",
   "mimetype": "text/x-python",
   "name": "python",
   "nbconvert_exporter": "python",
   "pygments_lexer": "ipython3",
   "version": "3.13.5"
  }
 },
 "nbformat": 4,
 "nbformat_minor": 5
}
