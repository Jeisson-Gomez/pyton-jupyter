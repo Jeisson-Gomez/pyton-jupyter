{
 "cells": [
  {
   "cell_type": "markdown",
   "id": "ec19b340",
   "metadata": {},
   "source": [
    "1. Variables"
   ]
  },
  {
   "cell_type": "code",
   "execution_count": 3,
   "id": "50739917",
   "metadata": {},
   "outputs": [
    {
     "name": "stdout",
     "output_type": "stream",
     "text": [
      "1\n",
      "3\n"
     ]
    }
   ],
   "source": [
    "print(9 % 2)\n",
    "print(23 % 10)"
   ]
  },
  {
   "cell_type": "markdown",
   "id": "de18df68",
   "metadata": {},
   "source": []
  },
  {
   "cell_type": "code",
   "execution_count": 4,
   "id": "4e0506bc",
   "metadata": {},
   "outputs": [
    {
     "name": "stdout",
     "output_type": "stream",
     "text": [
      "25\n",
      "42.875\n"
     ]
    }
   ],
   "source": [
    "#**\n",
    "number = 5\n",
    "power = 2\n",
    "print(number ** power)\n",
    "print(3.5 ** 3)"
   ]
  },
  {
   "cell_type": "code",
   "execution_count": 1,
   "id": "68af1d14",
   "metadata": {},
   "outputs": [
    {
     "name": "stdout",
     "output_type": "stream",
     "text": [
      "4\n",
      "3\n",
      "-5\n"
     ]
    }
   ],
   "source": [
    "#//\n",
    "print(9 // 2)\n",
    "print(10 // 3)\n",
    "print(-9 // 2)"
   ]
  }
 ],
 "metadata": {
  "kernelspec": {
   "display_name": "base",
   "language": "python",
   "name": "python3"
  },
  "language_info": {
   "codemirror_mode": {
    "name": "ipython",
    "version": 3
   },
   "file_extension": ".py",
   "mimetype": "text/x-python",
   "name": "python",
   "nbconvert_exporter": "python",
   "pygments_lexer": "ipython3",
   "version": "3.13.5"
  }
 },
 "nbformat": 4,
 "nbformat_minor": 5
}
