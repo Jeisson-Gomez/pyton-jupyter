{
 "cells": [
  {
   "cell_type": "markdown",
   "id": "c664ed38",
   "metadata": {},
   "source": [
    "While\n"
   ]
  },
  {
   "cell_type": "code",
   "execution_count": 1,
   "id": "ff4126a7",
   "metadata": {},
   "outputs": [
    {
     "name": "stdout",
     "output_type": "stream",
     "text": [
      "count {} 0\n",
      "count {} 1\n",
      "count {} 2\n",
      "count {} 3\n",
      "count {} 4\n"
     ]
    }
   ],
   "source": [
    "count = 0\n",
    "while count < 5:\n",
    "    print('count {}', format(count))\n",
    "    count += 1"
   ]
  },
  {
   "cell_type": "code",
   "execution_count": 8,
   "id": "fe741fcd",
   "metadata": {},
   "outputs": [
    {
     "name": "stdout",
     "output_type": "stream",
     "text": [
      "[13, 8]\n"
     ]
    }
   ],
   "source": [
    "Cards = [4, 2, 8, 13]\n",
    "\n",
    "My_Cards = []\n",
    "\n",
    "while sum(My_Cards)  < 21:\n",
    "    My_Cards.append(Cards.pop())\n",
    "\n",
    "print(My_Cards)"
   ]
  },
  {
   "cell_type": "markdown",
   "id": "31ed7692",
   "metadata": {},
   "source": [
    "For y While"
   ]
  },
  {
   "cell_type": "code",
   "execution_count": null,
   "id": "74b36e2d",
   "metadata": {},
   "outputs": [],
   "source": []
  }
 ],
 "metadata": {
  "kernelspec": {
   "display_name": "Python 3",
   "language": "python",
   "name": "python3"
  },
  "language_info": {
   "codemirror_mode": {
    "name": "ipython",
    "version": 3
   },
   "file_extension": ".py",
   "mimetype": "text/x-python",
   "name": "python",
   "nbconvert_exporter": "python",
   "pygments_lexer": "ipython3",
   "version": "3.12.10"
  }
 },
 "nbformat": 4,
 "nbformat_minor": 5
}
