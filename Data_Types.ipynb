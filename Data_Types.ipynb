{
 "cells": [
  {
   "cell_type": "code",
   "execution_count": 1,
   "id": "ab29258f",
   "metadata": {},
   "outputs": [
    {
     "name": "stdout",
     "output_type": "stream",
     "text": [
      "<class 'int'> <class 'float'>\n"
     ]
    }
   ],
   "source": [
    "# Int, Float, String, Bool\n",
    "x = int(4.5)\n",
    "y = float(4)\n",
    "print(type(x), type(y))"
   ]
  },
  {
   "cell_type": "code",
   "execution_count": 2,
   "id": "ce9302e2",
   "metadata": {},
   "outputs": [
    {
     "name": "stdout",
     "output_type": "stream",
     "text": [
      "False\n",
      "True\n",
      "False\n"
     ]
    }
   ],
   "source": [
    "# >,<, >=, <=, ==, !=\n",
    "print(None == 0)\n",
    "print('Hi' > 'Hello')\n",
    "print(4.5 <= 3.6)"
   ]
  },
  {
   "cell_type": "code",
   "execution_count": 3,
   "id": "25cb7c16",
   "metadata": {},
   "outputs": [
    {
     "name": "stdout",
     "output_type": "stream",
     "text": [
      "Welcom to \"McDonald's\"\n"
     ]
    }
   ],
   "source": [
    "word = 'Hello'\n",
    "word_ = \"Hello\"\n",
    "result = 'Welcom to \"McDonald\\'s\"'\n",
    "print(result)"
   ]
  },
  {
   "cell_type": "code",
   "execution_count": 5,
   "id": "6b6408bb",
   "metadata": {},
   "outputs": [
    {
     "name": "stdout",
     "output_type": "stream",
     "text": [
      "hello there\n",
      "False\n"
     ]
    }
   ],
   "source": [
    "# Lower\n",
    "word = 'Hello There'\n",
    "print(word.lower())\n",
    "\n",
    "print(word.islower())"
   ]
  },
  {
   "cell_type": "code",
   "execution_count": 6,
   "id": "0030f59b",
   "metadata": {},
   "outputs": [
    {
     "name": "stdout",
     "output_type": "stream",
     "text": [
      "3\n",
      "1\n"
     ]
    }
   ],
   "source": [
    "# count\n",
    "print(word.count('e'))\n",
    "print(word.find('e'))"
   ]
  },
  {
   "cell_type": "code",
   "execution_count": 7,
   "id": "f044a30c",
   "metadata": {},
   "outputs": [
    {
     "name": "stdout",
     "output_type": "stream",
     "text": [
      "Welcome Paul to AI course\n",
      "Paul has 4 pets\n"
     ]
    }
   ],
   "source": [
    "# format\n",
    "print('Welcome {} to AI course'.format('Paul'))\n",
    "print('{} has {} pets'.format('Paul', 4))"
   ]
  },
  {
   "cell_type": "code",
   "execution_count": 8,
   "id": "8e2d1792",
   "metadata": {},
   "outputs": [
    {
     "name": "stdout",
     "output_type": "stream",
     "text": [
      "['I', 'like', 'it', 'extreme', 'sport']\n",
      "['I', 'like', 'it extreme sport']\n"
     ]
    }
   ],
   "source": [
    "# Split\n",
    "new_word = 'I like it extreme sport'\n",
    "print(new_word.split())\n",
    "print(new_word.split(' ', 2))"
   ]
  }
 ],
 "metadata": {
  "kernelspec": {
   "display_name": "base",
   "language": "python",
   "name": "python3"
  },
  "language_info": {
   "codemirror_mode": {
    "name": "ipython",
    "version": 3
   },
   "file_extension": ".py",
   "mimetype": "text/x-python",
   "name": "python",
   "nbconvert_exporter": "python",
   "pygments_lexer": "ipython3",
   "version": "3.13.5"
  }
 },
 "nbformat": 4,
 "nbformat_minor": 5
}
