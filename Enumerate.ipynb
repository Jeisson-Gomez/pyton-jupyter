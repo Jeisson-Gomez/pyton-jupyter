{
 "cells": [
  {
   "cell_type": "code",
   "execution_count": null,
   "id": "7b04447c",
   "metadata": {},
   "outputs": [],
   "source": [
    "Students = {'Mary', 'Paul', 'Carol',  'Luis'}\n",
    "for index, Name in enumerats(Students):\n",
    "    print(index, Name)"
   ]
  }
 ],
 "metadata": {
  "kernelspec": {
   "display_name": "base",
   "language": "python",
   "name": "python3"
  },
  "language_info": {
   "name": "python",
   "version": "3.12.7"
  }
 },
 "nbformat": 4,
 "nbformat_minor": 5
}
