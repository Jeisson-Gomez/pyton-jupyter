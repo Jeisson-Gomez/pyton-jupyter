{
 "cells": [
  {
   "cell_type": "code",
   "execution_count": 2,
   "id": "7b04447c",
   "metadata": {},
   "outputs": [
    {
     "name": "stdout",
     "output_type": "stream",
     "text": [
      "0 Mary\n",
      "1 Paul\n",
      "2 Luis\n",
      "3 Carol\n"
     ]
    }
   ],
   "source": [
    "Students = {'Mary', 'Paul', 'Carol',  'Luis'}\n",
    "for index, Name in enumerate(Students):\n",
    "    print(index, Name)"
   ]
  },
  {
   "cell_type": "code",
   "execution_count": 4,
   "id": "d0a8dc34",
   "metadata": {},
   "outputs": [
    {
     "name": "stdout",
     "output_type": "stream",
     "text": [
      "0 Laptop\n",
      "1 Celular\n",
      "2 Desktop\n",
      "3 book\n"
     ]
    }
   ],
   "source": [
    "things = ['Laptop', 'Celular', 'Desktop', 'book']\n",
    "\n",
    "for Index, name in enumerate(things):\n",
    "    print(Index, name)"
   ]
  }
 ],
 "metadata": {
  "kernelspec": {
   "display_name": "base",
   "language": "python",
   "name": "python3"
  },
  "language_info": {
   "codemirror_mode": {
    "name": "ipython",
    "version": 3
   },
   "file_extension": ".py",
   "mimetype": "text/x-python",
   "name": "python",
   "nbconvert_exporter": "python",
   "pygments_lexer": "ipython3",
   "version": "3.12.7"
  }
 },
 "nbformat": 4,
 "nbformat_minor": 5
}
