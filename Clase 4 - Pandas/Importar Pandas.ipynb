{
 "cells": [
  {
   "cell_type": "markdown",
   "id": "4e449f62",
   "metadata": {},
   "source": [
    "Series"
   ]
  },
  {
   "cell_type": "code",
   "execution_count": 8,
   "id": "c1a50806",
   "metadata": {},
   "outputs": [],
   "source": [
    "import pandas as pd"
   ]
  },
  {
   "cell_type": "code",
   "execution_count": 9,
   "id": "475bef91",
   "metadata": {},
   "outputs": [
    {
     "data": {
      "text/plain": [
       "name          Luis\n",
       "country    Jamaica\n",
       "age             40\n",
       "dtype: object"
      ]
     },
     "execution_count": 9,
     "metadata": {},
     "output_type": "execute_result"
    }
   ],
   "source": [
    "Studens = pd.Series(data = ['Luis', 'Jamaica', 40], index = ['name', 'country', 'age'])\n",
    "Studens"
   ]
  },
  {
   "cell_type": "code",
   "execution_count": 12,
   "id": "6da90cad",
   "metadata": {},
   "outputs": [
    {
     "name": "stdout",
     "output_type": "stream",
     "text": [
      "(3,)\n",
      "1\n",
      "3\n"
     ]
    }
   ],
   "source": [
    "print(Studens.shape)\n",
    "print(Studens.ndim)\n",
    "print(Studens.size)"
   ]
  },
  {
   "cell_type": "code",
   "execution_count": 13,
   "id": "89164497",
   "metadata": {},
   "outputs": [
    {
     "name": "stdout",
     "output_type": "stream",
     "text": [
      "['Luis' 'Jamaica' 40]\n"
     ]
    }
   ],
   "source": [
    "print(Studens.values)"
   ]
  },
  {
   "cell_type": "code",
   "execution_count": 14,
   "id": "d4025a0e",
   "metadata": {},
   "outputs": [
    {
     "name": "stdout",
     "output_type": "stream",
     "text": [
      "Index(['name', 'country', 'age'], dtype='object')\n"
     ]
    }
   ],
   "source": [
    "print(Studens.index)"
   ]
  },
  {
   "cell_type": "code",
   "execution_count": 15,
   "id": "476f3a0a",
   "metadata": {},
   "outputs": [
    {
     "name": "stdout",
     "output_type": "stream",
     "text": [
      "False\n"
     ]
    }
   ],
   "source": [
    "print('company' in Studens)"
   ]
  }
 ],
 "metadata": {
  "kernelspec": {
   "display_name": "base",
   "language": "python",
   "name": "python3"
  },
  "language_info": {
   "codemirror_mode": {
    "name": "ipython",
    "version": 3
   },
   "file_extension": ".py",
   "mimetype": "text/x-python",
   "name": "python",
   "nbconvert_exporter": "python",
   "pygments_lexer": "ipython3",
   "version": "3.13.5"
  }
 },
 "nbformat": 4,
 "nbformat_minor": 5
}
