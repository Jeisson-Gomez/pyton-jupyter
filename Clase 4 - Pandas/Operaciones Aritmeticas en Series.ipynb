{
 "cells": [
  {
   "cell_type": "markdown",
   "id": "bf0e5088",
   "metadata": {},
   "source": [
    "Operaciones Aritmeticas en Series"
   ]
  },
  {
   "cell_type": "code",
   "execution_count": 18,
   "id": "f50c82a2",
   "metadata": {},
   "outputs": [],
   "source": [
    "import pandas as pd\n",
    "import numpy as np"
   ]
  },
  {
   "cell_type": "code",
   "execution_count": 19,
   "id": "ac605119",
   "metadata": {},
   "outputs": [
    {
     "data": {
      "text/plain": [
       "Apple     20\n",
       "Banana    40\n",
       "Cherry    60\n",
       "dtype: int64"
      ]
     },
     "execution_count": 19,
     "metadata": {},
     "output_type": "execute_result"
    }
   ],
   "source": [
    "Fruits = pd.Series(data = [20, 40, 60], index = ['Apple', 'Banana', 'Cherry'])\n",
    "Fruits"
   ]
  },
  {
   "cell_type": "code",
   "execution_count": 20,
   "id": "d1e44b5f",
   "metadata": {},
   "outputs": [
    {
     "name": "stdout",
     "output_type": "stream",
     "text": [
      "Apple     23\n",
      "Banana    43\n",
      "Cherry    63\n",
      "dtype: int64\n"
     ]
    }
   ],
   "source": [
    "print(Fruits + 3)"
   ]
  },
  {
   "cell_type": "code",
   "execution_count": 21,
   "id": "60c91dca",
   "metadata": {},
   "outputs": [
    {
     "name": "stdout",
     "output_type": "stream",
     "text": [
      "Apple     16\n",
      "Banana    36\n",
      "Cherry    56\n",
      "dtype: int64\n"
     ]
    }
   ],
   "source": [
    "print(Fruits - 4)"
   ]
  },
  {
   "cell_type": "code",
   "execution_count": 22,
   "id": "4e848129",
   "metadata": {},
   "outputs": [
    {
     "name": "stdout",
     "output_type": "stream",
     "text": [
      "Apple      40\n",
      "Banana     80\n",
      "Cherry    120\n",
      "dtype: int64\n"
     ]
    }
   ],
   "source": [
    "print(Fruits * 2)"
   ]
  },
  {
   "cell_type": "code",
   "execution_count": 23,
   "id": "4a1e1e6d",
   "metadata": {},
   "outputs": [
    {
     "name": "stdout",
     "output_type": "stream",
     "text": [
      "Apple     2.0\n",
      "Banana    4.0\n",
      "Cherry    6.0\n",
      "dtype: float64\n"
     ]
    }
   ],
   "source": [
    "print(Fruits / 10)"
   ]
  },
  {
   "cell_type": "code",
   "execution_count": 24,
   "id": "b2bab402",
   "metadata": {},
   "outputs": [
    {
     "name": "stdout",
     "output_type": "stream",
     "text": [
      "Apple     20\n",
      "Banana    40\n",
      "Cherry    60\n",
      "dtype: int64\n",
      "Apple     4.472136\n",
      "Banana    6.324555\n",
      "Cherry    7.745967\n",
      "dtype: float64\n"
     ]
    }
   ],
   "source": [
    "print(Fruits)\n",
    "print(np.sqrt(Fruits))"
   ]
  }
 ],
 "metadata": {
  "kernelspec": {
   "display_name": "base",
   "language": "python",
   "name": "python3"
  },
  "language_info": {
   "codemirror_mode": {
    "name": "ipython",
    "version": 3
   },
   "file_extension": ".py",
   "mimetype": "text/x-python",
   "name": "python",
   "nbconvert_exporter": "python",
   "pygments_lexer": "ipython3",
   "version": "3.13.5"
  }
 },
 "nbformat": 4,
 "nbformat_minor": 5
}
