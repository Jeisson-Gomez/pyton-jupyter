{
 "cells": [
  {
   "cell_type": "markdown",
   "id": "bf0e5088",
   "metadata": {},
   "source": [
    "Operaciones Aritmeticas en Series"
   ]
  },
  {
   "cell_type": "code",
   "execution_count": 58,
   "id": "f50c82a2",
   "metadata": {},
   "outputs": [],
   "source": [
    "import pandas as pd\n",
    "import numpy as np"
   ]
  },
  {
   "cell_type": "code",
   "execution_count": 59,
   "id": "ac605119",
   "metadata": {},
   "outputs": [
    {
     "data": {
      "text/plain": [
       "Mango     20\n",
       "Apple     40\n",
       "Banana    60\n",
       "Cherry    80\n",
       "dtype: int64"
      ]
     },
     "execution_count": 59,
     "metadata": {},
     "output_type": "execute_result"
    }
   ],
   "source": [
    "Fruits = pd.Series(data = [20, 40, 60, 80], index = ['Mango', 'Apple', 'Banana', 'Cherry'])\n",
    "Fruits"
   ]
  },
  {
   "cell_type": "code",
   "execution_count": 60,
   "id": "d1e44b5f",
   "metadata": {},
   "outputs": [
    {
     "name": "stdout",
     "output_type": "stream",
     "text": [
      "Mango     23\n",
      "Apple     43\n",
      "Banana    63\n",
      "Cherry    83\n",
      "dtype: int64\n"
     ]
    }
   ],
   "source": [
    "print(Fruits + 3)"
   ]
  },
  {
   "cell_type": "code",
   "execution_count": 61,
   "id": "60c91dca",
   "metadata": {},
   "outputs": [
    {
     "name": "stdout",
     "output_type": "stream",
     "text": [
      "Mango     16\n",
      "Apple     36\n",
      "Banana    56\n",
      "Cherry    76\n",
      "dtype: int64\n"
     ]
    }
   ],
   "source": [
    "print(Fruits - 4)"
   ]
  },
  {
   "cell_type": "code",
   "execution_count": 62,
   "id": "4e848129",
   "metadata": {},
   "outputs": [
    {
     "name": "stdout",
     "output_type": "stream",
     "text": [
      "Mango      40\n",
      "Apple      80\n",
      "Banana    120\n",
      "Cherry    160\n",
      "dtype: int64\n"
     ]
    }
   ],
   "source": [
    "print(Fruits * 2)"
   ]
  },
  {
   "cell_type": "code",
   "execution_count": 63,
   "id": "4a1e1e6d",
   "metadata": {},
   "outputs": [
    {
     "name": "stdout",
     "output_type": "stream",
     "text": [
      "Mango     2.0\n",
      "Apple     4.0\n",
      "Banana    6.0\n",
      "Cherry    8.0\n",
      "dtype: float64\n"
     ]
    }
   ],
   "source": [
    "print(Fruits / 10)"
   ]
  },
  {
   "cell_type": "code",
   "execution_count": 64,
   "id": "b2bab402",
   "metadata": {},
   "outputs": [
    {
     "name": "stdout",
     "output_type": "stream",
     "text": [
      "Mango     20\n",
      "Apple     40\n",
      "Banana    60\n",
      "Cherry    80\n",
      "dtype: int64\n",
      "\n",
      "\n",
      "Mango     4.472136\n",
      "Apple     6.324555\n",
      "Banana    7.745967\n",
      "Cherry    8.944272\n",
      "dtype: float64\n"
     ]
    }
   ],
   "source": [
    "print(Fruits)\n",
    "print('\\n')\n",
    "print(np.sqrt(Fruits))"
   ]
  },
  {
   "cell_type": "code",
   "execution_count": 65,
   "id": "0c4c8353",
   "metadata": {},
   "outputs": [
    {
     "name": "stdout",
     "output_type": "stream",
     "text": [
      "Mango     4.851652e+08\n",
      "Apple     2.353853e+17\n",
      "Banana    1.142007e+26\n",
      "Cherry    5.540622e+34\n",
      "dtype: float64\n"
     ]
    }
   ],
   "source": [
    "print(np.exp(Fruits)) # e"
   ]
  },
  {
   "cell_type": "code",
   "execution_count": 66,
   "id": "184b02b4",
   "metadata": {},
   "outputs": [
    {
     "name": "stdout",
     "output_type": "stream",
     "text": [
      "Mango      400\n",
      "Apple     1600\n",
      "Banana    3600\n",
      "Cherry    6400\n",
      "dtype: int64\n"
     ]
    }
   ],
   "source": [
    "print(np.power(Fruits, 2))"
   ]
  },
  {
   "cell_type": "code",
   "execution_count": 67,
   "id": "1afbcfc7",
   "metadata": {},
   "outputs": [
    {
     "name": "stdout",
     "output_type": "stream",
     "text": [
      "23\n"
     ]
    }
   ],
   "source": [
    "print(Fruits['Mango'] + 3)"
   ]
  },
  {
   "cell_type": "code",
   "execution_count": 70,
   "id": "43dbc7f2",
   "metadata": {},
   "outputs": [
    {
     "name": "stdout",
     "output_type": "stream",
     "text": [
      "Banana    600\n",
      "Apple     400\n",
      "dtype: int64\n"
     ]
    }
   ],
   "source": [
    "print(Fruits[['Banana' , 'Apple']] * 10)"
   ]
  },
  {
   "cell_type": "code",
   "execution_count": null,
   "id": "48523acd",
   "metadata": {},
   "outputs": [],
   "source": [
    "print(Fruits.loc())"
   ]
  }
 ],
 "metadata": {
  "kernelspec": {
   "display_name": "base",
   "language": "python",
   "name": "python3"
  },
  "language_info": {
   "codemirror_mode": {
    "name": "ipython",
    "version": 3
   },
   "file_extension": ".py",
   "mimetype": "text/x-python",
   "name": "python",
   "nbconvert_exporter": "python",
   "pygments_lexer": "ipython3",
   "version": "3.13.5"
  }
 },
 "nbformat": 4,
 "nbformat_minor": 5
}
