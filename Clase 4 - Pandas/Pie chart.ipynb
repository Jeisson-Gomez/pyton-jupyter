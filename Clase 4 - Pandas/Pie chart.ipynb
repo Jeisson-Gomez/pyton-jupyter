{
 "cells": [
  {
   "cell_type": "markdown",
   "id": "7c0dc19e",
   "metadata": {},
   "source": [
    "Matplotlib, Seaborn: Pie Chart"
   ]
  },
  {
   "cell_type": "code",
   "execution_count": 36,
   "id": "a78b28b5",
   "metadata": {},
   "outputs": [],
   "source": [
    "import pandas as pd\n",
    "import matplotlib.pyplot as plt\n",
    "import seaborn as sns\n",
    "%matplotlib inline"
   ]
  },
  {
   "cell_type": "code",
   "execution_count": 37,
   "id": "f376698d",
   "metadata": {},
   "outputs": [
    {
     "name": "stdout",
     "output_type": "stream",
     "text": [
      "Index(['Unnamed: 0', 'ID', 'Name', 'Age', 'Photo', 'Nationality', 'Flag',\n",
      "       'Overall', 'Potential', 'Club', 'Club Logo', 'Value', 'Wage', 'Special',\n",
      "       'Preferred Foot', 'International Reputation', 'Weak Foot',\n",
      "       'Skill Moves', 'Work Rate', 'Body Type', 'Real Face', 'Position',\n",
      "       'Jersey Number', 'Joined', 'Loaned From', 'Contract Valid Until',\n",
      "       'Height', 'Weight', 'LS', 'ST', 'RS', 'LW', 'LF', 'CF', 'RF', 'RW',\n",
      "       'LAM', 'CAM', 'RAM', 'LM', 'LCM', 'CM', 'RCM', 'RM', 'LWB', 'LDM',\n",
      "       'CDM', 'RDM', 'RWB', 'LB', 'LCB', 'CB', 'RCB', 'RB', 'Crossing',\n",
      "       'Finishing', 'HeadingAccuracy', 'ShortPassing', 'Volleys', 'Dribbling',\n",
      "       'Curve', 'FKAccuracy', 'LongPassing', 'BallControl', 'Acceleration',\n",
      "       'SprintSpeed', 'Agility', 'Reactions', 'Balance', 'ShotPower',\n",
      "       'Jumping', 'Stamina', 'Strength', 'LongShots', 'Aggression',\n",
      "       'Interceptions', 'Positioning', 'Vision', 'Penalties', 'Composure',\n",
      "       'Marking', 'StandingTackle', 'SlidingTackle', 'GKDiving', 'GKHandling',\n",
      "       'GKKicking', 'GKPositioning', 'GKReflexes', 'Release Clause'],\n",
      "      dtype='object')\n"
     ]
    }
   ],
   "source": [
    "df = pd.read_csv('data_fifa.csv')\n",
    "df.head(4)\n",
    "print(df.columns)"
   ]
  },
  {
   "cell_type": "code",
   "execution_count": 38,
   "id": "9659bc35",
   "metadata": {},
   "outputs": [],
   "source": [
    "sorted_values = df['Position'].value_counts()\n",
    "# print(sorted_values)\n",
    "# print(type(sorted_values))\n",
    "\n",
    "plt.pie(sorted_values, labels = sorted_values.index, startangle = 90, counterclock = False);\n",
    "plt.axis('equal');"
   ]
  },
  {
   "cell_type": "code",
   "execution_count": 41,
   "id": "333df034",
   "metadata": {},
   "outputs": [],
   "source": [
    "plt.pie(sorted_values, labels = sorted_values.index, startangle = 90, counterclock = False,\n",
    "            wedgeprops = {'width': 1});\n",
    "plt.axis('square');"
   ]
  }
 ],
 "metadata": {
  "kernelspec": {
   "display_name": "base",
   "language": "python",
   "name": "python3"
  },
  "language_info": {
   "codemirror_mode": {
    "name": "ipython",
    "version": 3
   },
   "file_extension": ".py",
   "mimetype": "text/x-python",
   "name": "python",
   "nbconvert_exporter": "python",
   "pygments_lexer": "ipython3",
   "version": "3.13.5"
  }
 },
 "nbformat": 4,
 "nbformat_minor": 5
}
