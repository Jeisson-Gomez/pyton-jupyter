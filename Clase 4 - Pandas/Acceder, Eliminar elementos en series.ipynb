{
 "cells": [
  {
   "cell_type": "markdown",
   "id": "5aa6f424",
   "metadata": {},
   "source": [
    "Acceder y Eliminar elementos en Series"
   ]
  },
  {
   "cell_type": "code",
   "execution_count": 2,
   "id": "d4e68600",
   "metadata": {},
   "outputs": [],
   "source": [
    "import pandas as pd"
   ]
  },
  {
   "cell_type": "code",
   "execution_count": 3,
   "id": "bcac5b90",
   "metadata": {},
   "outputs": [
    {
     "data": {
      "text/plain": [
       "name          Luis\n",
       "country    Jamaica\n",
       "age             40\n",
       "dtype: object"
      ]
     },
     "execution_count": 3,
     "metadata": {},
     "output_type": "execute_result"
    }
   ],
   "source": [
    "Studens = pd.Series(data = ['Luis', 'Jamaica', 40], index = ['name', 'country', 'age'])\n",
    "Studens"
   ]
  }
 ],
 "metadata": {
  "kernelspec": {
   "display_name": "base",
   "language": "python",
   "name": "python3"
  },
  "language_info": {
   "codemirror_mode": {
    "name": "ipython",
    "version": 3
   },
   "file_extension": ".py",
   "mimetype": "text/x-python",
   "name": "python",
   "nbconvert_exporter": "python",
   "pygments_lexer": "ipython3",
   "version": "3.13.5"
  }
 },
 "nbformat": 4,
 "nbformat_minor": 5
}
