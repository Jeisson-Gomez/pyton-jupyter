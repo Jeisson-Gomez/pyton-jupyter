{
 "cells": [
  {
   "cell_type": "markdown",
   "id": "5aa6f424",
   "metadata": {},
   "source": [
    "Acceder y Eliminar elementos en Series\n"
   ]
  },
  {
   "cell_type": "code",
   "execution_count": 100,
   "id": "d4e68600",
   "metadata": {},
   "outputs": [],
   "source": [
    "import pandas as pd"
   ]
  },
  {
   "cell_type": "code",
   "execution_count": 101,
   "id": "bcac5b90",
   "metadata": {},
   "outputs": [
    {
     "data": {
      "text/plain": [
       "name          Luis\n",
       "country    Jamaica\n",
       "age             40\n",
       "dtype: object"
      ]
     },
     "execution_count": 101,
     "metadata": {},
     "output_type": "execute_result"
    }
   ],
   "source": [
    "Studens = pd.Series(data= ['Luis', 'Jamaica', 40], index = ['name', 'country', 'age'])\n",
    "Studens"
   ]
  },
  {
   "cell_type": "code",
   "execution_count": 102,
   "id": "f71fa4e0",
   "metadata": {},
   "outputs": [
    {
     "name": "stdout",
     "output_type": "stream",
     "text": [
      "40\n"
     ]
    }
   ],
   "source": [
    "print(Studens['age'])"
   ]
  },
  {
   "cell_type": "code",
   "execution_count": 103,
   "id": "bb9a1af5",
   "metadata": {},
   "outputs": [
    {
     "name": "stdout",
     "output_type": "stream",
     "text": [
      "name    Luis\n",
      "age       40\n",
      "dtype: object\n"
     ]
    }
   ],
   "source": [
    "print(Studens[['name', 'age']])"
   ]
  },
  {
   "cell_type": "code",
   "execution_count": 104,
   "id": "d7adf485",
   "metadata": {},
   "outputs": [
    {
     "name": "stdout",
     "output_type": "stream",
     "text": [
      "Jamaica\n"
     ]
    }
   ],
   "source": [
    "print(Studens.iloc[1])"
   ]
  },
  {
   "cell_type": "code",
   "execution_count": 105,
   "id": "ca8aa686",
   "metadata": {},
   "outputs": [
    {
     "name": "stdout",
     "output_type": "stream",
     "text": [
      "name          Luis\n",
      "country    Jamaica\n",
      "dtype: object\n"
     ]
    }
   ],
   "source": [
    "print(Studens.iloc[[0, 1]])"
   ]
  },
  {
   "cell_type": "code",
   "execution_count": 106,
   "id": "e5d95fdf",
   "metadata": {},
   "outputs": [
    {
     "name": "stdout",
     "output_type": "stream",
     "text": [
      "40\n"
     ]
    }
   ],
   "source": [
    "print(Studens.iloc[-1])"
   ]
  },
  {
   "cell_type": "code",
   "execution_count": 107,
   "id": "276cf779",
   "metadata": {},
   "outputs": [
    {
     "name": "stdout",
     "output_type": "stream",
     "text": [
      "Jamaica\n"
     ]
    }
   ],
   "source": [
    "print(Studens.loc['country'])"
   ]
  },
  {
   "cell_type": "code",
   "execution_count": 108,
   "id": "20d74261",
   "metadata": {},
   "outputs": [
    {
     "name": "stdout",
     "output_type": "stream",
     "text": [
      "Luis\n"
     ]
    }
   ],
   "source": [
    "print(Studens.iloc[0])"
   ]
  },
  {
   "cell_type": "code",
   "execution_count": 112,
   "id": "1aab550e",
   "metadata": {},
   "outputs": [
    {
     "name": "stdout",
     "output_type": "stream",
     "text": [
      "name          Luis\n",
      "country    Jamaica\n",
      "dtype: object\n"
     ]
    }
   ],
   "source": [
    "# Studens.drop(['age'], inplace = True)\n",
    "print(Studens)"
   ]
  }
 ],
 "metadata": {
  "kernelspec": {
   "display_name": "base",
   "language": "python",
   "name": "python3"
  },
  "language_info": {
   "codemirror_mode": {
    "name": "ipython",
    "version": 3
   },
   "file_extension": ".py",
   "mimetype": "text/x-python",
   "name": "python",
   "nbconvert_exporter": "python",
   "pygments_lexer": "ipython3",
   "version": "3.13.5"
  }
 },
 "nbformat": 4,
 "nbformat_minor": 5
}
