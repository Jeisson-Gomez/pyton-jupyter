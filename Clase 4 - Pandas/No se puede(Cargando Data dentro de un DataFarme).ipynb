{
 "cells": [
  {
   "cell_type": "markdown",
   "id": "76ac926b",
   "metadata": {},
   "source": [
    "DataFarme\n"
   ]
  },
  {
   "cell_type": "code",
   "execution_count": 13,
   "id": "16af99cc",
   "metadata": {},
   "outputs": [],
   "source": [
    "import pandas as pd"
   ]
  },
  {
   "cell_type": "code",
   "execution_count": 19,
   "id": "63ef6ca9",
   "metadata": {},
   "outputs": [
    {
     "data": {
      "text/plain": [
       "name          Luis\n",
       "country    Jamaica\n",
       "age             40\n",
       "dtype: object"
      ]
     },
     "execution_count": 19,
     "metadata": {},
     "output_type": "execute_result"
    }
   ],
   "source": [
    "Studens = pd.Series(data= ['Luis', 'Jamaica', 40], index = ['name', 'country', 'age'])\n",
    "Studens"
   ]
  }
 ],
 "metadata": {
  "kernelspec": {
   "display_name": "base",
   "language": "python",
   "name": "python3"
  },
  "language_info": {
   "codemirror_mode": {
    "name": "ipython",
    "version": 3
   },
   "file_extension": ".py",
   "mimetype": "text/x-python",
   "name": "python",
   "nbconvert_exporter": "python",
   "pygments_lexer": "ipython3",
   "version": "3.13.5"
  }
 },
 "nbformat": 4,
 "nbformat_minor": 5
}
