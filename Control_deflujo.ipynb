{
 "cells": [
  {
   "cell_type": "code",
   "execution_count": 10,
   "id": "34706f69",
   "metadata": {},
   "outputs": [
    {
     "name": "stdout",
     "output_type": "stream",
     "text": [
      "Go to the beach\n",
      "['Carmen', 'Jose']\n",
      "Rio de Janeireo\n"
     ]
    }
   ],
   "source": [
    "# if\n",
    "x, y = 12, 20\n",
    "if x > y :\n",
    "    print('{} es mayor a {}'.format(x, y))\n",
    "\n",
    "list_frends = [ ]\n",
    "beach_name = [ ]\n",
    "\n",
    "seasion = 'summer'\n",
    "if seasion == 'summer':\n",
    "    print('Go to the beach')\n",
    "    list_frends = ['Carmen', 'Jose']\n",
    "    beach_name = 'Rio de Janeireo'\n",
    "\n",
    "print(list_frends)\n",
    "print(beach_name)"
   ]
  }
 ],
 "metadata": {
  "kernelspec": {
   "display_name": "Python 3",
   "language": "python",
   "name": "python3"
  },
  "language_info": {
   "codemirror_mode": {
    "name": "ipython",
    "version": 3
   },
   "file_extension": ".py",
   "mimetype": "text/x-python",
   "name": "python",
   "nbconvert_exporter": "python",
   "pygments_lexer": "ipython3",
   "version": "3.12.10"
  }
 },
 "nbformat": 4,
 "nbformat_minor": 5
}
