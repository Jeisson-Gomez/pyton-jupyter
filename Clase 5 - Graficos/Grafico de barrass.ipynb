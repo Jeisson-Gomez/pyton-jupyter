{
 "cells": [
  {
   "cell_type": "markdown",
   "id": "7641e4eb",
   "metadata": {},
   "source": [
    "Matplotlb, seaborn"
   ]
  },
  {
   "cell_type": "code",
   "execution_count": 15,
   "id": "e4659a4c",
   "metadata": {},
   "outputs": [],
   "source": [
    "import pandas as pd\n",
    "import matplotlib.pyplot as plt\n",
    "import seaborn as sns\n",
    "%matplotlib inline"
   ]
  },
  {
   "cell_type": "code",
   "execution_count": 16,
   "id": "6620a1d6",
   "metadata": {},
   "outputs": [
    {
     "name": "stdout",
     "output_type": "stream",
     "text": [
      "Index(['Unnamed: 0', 'ID', 'Name', 'Age', 'Photo', 'Nationality', 'Flag',\n",
      "       'Overall', 'Potential', 'Club', 'Club Logo', 'Value', 'Wage', 'Special',\n",
      "       'Preferred Foot', 'International Reputation', 'Weak Foot',\n",
      "       'Skill Moves', 'Work Rate', 'Body Type', 'Real Face', 'Position',\n",
      "       'Jersey Number', 'Joined', 'Loaned From', 'Contract Valid Until',\n",
      "       'Height', 'Weight', 'LS', 'ST', 'RS', 'LW', 'LF', 'CF', 'RF', 'RW',\n",
      "       'LAM', 'CAM', 'RAM', 'LM', 'LCM', 'CM', 'RCM', 'RM', 'LWB', 'LDM',\n",
      "       'CDM', 'RDM', 'RWB', 'LB', 'LCB', 'CB', 'RCB', 'RB', 'Crossing',\n",
      "       'Finishing', 'HeadingAccuracy', 'ShortPassing', 'Volleys', 'Dribbling',\n",
      "       'Curve', 'FKAccuracy', 'LongPassing', 'BallControl', 'Acceleration',\n",
      "       'SprintSpeed', 'Agility', 'Reactions', 'Balance', 'ShotPower',\n",
      "       'Jumping', 'Stamina', 'Strength', 'LongShots', 'Aggression',\n",
      "       'Interceptions', 'Positioning', 'Vision', 'Penalties', 'Composure',\n",
      "       'Marking', 'StandingTackle', 'SlidingTackle', 'GKDiving', 'GKHandling',\n",
      "       'GKKicking', 'GKPositioning', 'GKReflexes', 'Release Clause'],\n",
      "      dtype='object')\n"
     ]
    }
   ],
   "source": [
    "df = pd.read_csv('data_fifa.csv')\n",
    "print(df.columns)"
   ]
  },
  {
   "cell_type": "code",
   "execution_count": null,
   "id": "7a734ef6",
   "metadata": {},
   "outputs": [
    {
     "data": {
      "text/plain": [
       "<Axes: xlabel='Real Face', ylabel='count'>"
      ]
     },
     "execution_count": 17,
     "metadata": {},
     "output_type": "execute_result"
    }
   ],
   "source": [
    "sns.countplot(data = df, x = 'Real Face', color = color_base)"
   ]
  },
  {
   "cell_type": "code",
   "execution_count": null,
   "id": "ce152eb3",
   "metadata": {},
   "outputs": [],
   "source": [
    "color_base = sns.color_palette()[0]\n",
    "order_positions = df['Position'].value_counts().index"
   ]
  }
 ],
 "metadata": {
  "kernelspec": {
   "display_name": "base",
   "language": "python",
   "name": "python3"
  },
  "language_info": {
   "codemirror_mode": {
    "name": "ipython",
    "version": 3
   },
   "file_extension": ".py",
   "mimetype": "text/x-python",
   "name": "python",
   "nbconvert_exporter": "python",
   "pygments_lexer": "ipython3",
   "version": "3.13.5"
  }
 },
 "nbformat": 4,
 "nbformat_minor": 5
}
