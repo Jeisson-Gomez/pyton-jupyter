{
 "cells": [
  {
   "cell_type": "markdown",
   "id": "f366249d",
   "metadata": {},
   "source": [
    "Numpy Funcron"
   ]
  },
  {
   "cell_type": "code",
   "execution_count": 69,
   "id": "3ab0f6aa",
   "metadata": {},
   "outputs": [],
   "source": [
    "# zeros"
   ]
  },
  {
   "cell_type": "code",
   "execution_count": 70,
   "id": "95dd0a19",
   "metadata": {},
   "outputs": [],
   "source": [
    "import numpy as np\n",
    "import numpy.char as char"
   ]
  },
  {
   "cell_type": "code",
   "execution_count": 71,
   "id": "8b0bfd29",
   "metadata": {},
   "outputs": [
    {
     "name": "stdout",
     "output_type": "stream",
     "text": [
      "[[0 0 0 0]\n",
      " [0 0 0 0]\n",
      " [0 0 0 0]]\n",
      "(3, 4)\n",
      "<class 'numpy.ndarray'>\n",
      "int64\n"
     ]
    }
   ],
   "source": [
    "#Zero\n",
    "\n",
    "x = np.zeros((3, 4), dtype=int)\n",
    "print(x)\n",
    "print(x.shape)\n",
    "print(type(x))\n",
    "print(x.dtype)"
   ]
  },
  {
   "cell_type": "markdown",
   "id": "2dca09ef",
   "metadata": {},
   "source": [
    "Ones"
   ]
  },
  {
   "cell_type": "code",
   "execution_count": 72,
   "id": "86e94725",
   "metadata": {},
   "outputs": [
    {
     "name": "stdout",
     "output_type": "stream",
     "text": [
      "[[1 1 1 1]\n",
      " [1 1 1 1]\n",
      " [1 1 1 1]]\n",
      "(3, 4)\n",
      "<class 'numpy.ndarray'>\n",
      "int64\n"
     ]
    }
   ],
   "source": [
    "x = np.ones((3, 4), dtype=int)\n",
    "print(x)\n",
    "print(x.shape)\n",
    "print(type(x))\n",
    "print(x.dtype)"
   ]
  },
  {
   "cell_type": "code",
   "execution_count": 73,
   "id": "edebdfa8",
   "metadata": {},
   "outputs": [
    {
     "name": "stdout",
     "output_type": "stream",
     "text": [
      "[[4 4 4 4]\n",
      " [4 4 4 4]\n",
      " [4 4 4 4]]\n"
     ]
    }
   ],
   "source": [
    "x = np.full((3, 4), 4)\n",
    "print(x)"
   ]
  },
  {
   "cell_type": "code",
   "execution_count": 74,
   "id": "6498bdb5",
   "metadata": {},
   "outputs": [
    {
     "name": "stdout",
     "output_type": "stream",
     "text": [
      "[[1. 0. 0.]\n",
      " [0. 1. 0.]\n",
      " [0. 0. 1.]]\n"
     ]
    }
   ],
   "source": [
    "#eye\n",
    "x = np.eye((3))\n",
    "print(x)"
   ]
  },
  {
   "cell_type": "code",
   "execution_count": 75,
   "id": "90d6e7dc",
   "metadata": {},
   "outputs": [
    {
     "name": "stdout",
     "output_type": "stream",
     "text": [
      "[[7 0 0]\n",
      " [0 8 0]\n",
      " [0 0 9]]\n"
     ]
    }
   ],
   "source": [
    "#diag\n",
    "x = np.diag((7, 8, 9))\n",
    "print(x)"
   ]
  },
  {
   "cell_type": "code",
   "execution_count": null,
   "id": "ef144666",
   "metadata": {},
   "outputs": [
    {
     "name": "stdout",
     "output_type": "stream",
     "text": [
      "[0 1 2 3 4 5 6 7 8 9]\n",
      "[4 5 6 7 8 9]\n",
      "[4 6 8]\n"
     ]
    }
   ],
   "source": [
    "#arange\n",
    "x = np.arange(10)\n",
    "print(x)\n",
    "\n",
    "x = np.arange(4, 10)\n",
    "print(x)\n",
    "\n",
    "x = np.arange(4, 10, 2)\n",
    "print(x)"
   ]
  },
  {
   "cell_type": "code",
   "execution_count": 80,
   "id": "405a3270",
   "metadata": {},
   "outputs": [
    {
     "name": "stdout",
     "output_type": "stream",
     "text": [
      "[[0.68134931 0.23776239 0.21844011]\n",
      " [0.42050596 0.26070672 0.32410357]]\n"
     ]
    }
   ],
   "source": [
    "#radom\n",
    "x = np.random.random((2, 3))\n",
    "print(x)"
   ]
  },
  {
   "cell_type": "code",
   "execution_count": 81,
   "id": "d8f82996",
   "metadata": {},
   "outputs": [
    {
     "name": "stdout",
     "output_type": "stream",
     "text": [
      "[[7 8]\n",
      " [3 6]\n",
      " [5 5]]\n"
     ]
    }
   ],
   "source": [
    "#randit\n",
    "x = np.random.randint(2, 9, (3, 2))\n",
    "print(x)"
   ]
  },
  {
   "cell_type": "code",
   "execution_count": 82,
   "id": "4933683f",
   "metadata": {},
   "outputs": [
    {
     "name": "stdout",
     "output_type": "stream",
     "text": [
      "[[7 8 3]\n",
      " [6 5 5]]\n"
     ]
    }
   ],
   "source": [
    "#reshape\n",
    "y = np.reshape(x, (2, 3))\n",
    "print(y)"
   ]
  }
 ],
 "metadata": {
  "kernelspec": {
   "display_name": "base",
   "language": "python",
   "name": "python3"
  },
  "language_info": {
   "codemirror_mode": {
    "name": "ipython",
    "version": 3
   },
   "file_extension": ".py",
   "mimetype": "text/x-python",
   "name": "python",
   "nbconvert_exporter": "python",
   "pygments_lexer": "ipython3",
   "version": "3.13.5"
  }
 },
 "nbformat": 4,
 "nbformat_minor": 5
}
