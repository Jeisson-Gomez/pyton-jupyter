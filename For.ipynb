{
 "cells": [
  {
   "cell_type": "markdown",
   "id": "0f370d7f",
   "metadata": {},
   "source": [
    "# for in list\n"
   ]
  },
  {
   "cell_type": "code",
   "execution_count": 5,
   "id": "b0b482b7",
   "metadata": {},
   "outputs": [
    {
     "name": "stdout",
     "output_type": "stream",
     "text": [
      "1\n",
      "3\n"
     ]
    }
   ],
   "source": [
    "Numbers = [ 1, 2, 3, 4 ]\n",
    "\n",
    "# for Number in Numbers:\n",
    "    # print(Number)\n",
    "\n",
    "# range(0. 9, 1)\n",
    "for Number in range (1, 4, 2):\n",
    "    print(Number)"
   ]
  },
  {
   "cell_type": "code",
   "execution_count": 6,
   "id": "a55ba2c1",
   "metadata": {},
   "outputs": [
    {
     "name": "stdout",
     "output_type": "stream",
     "text": [
      "['blanco', 'negto', 'rojo']\n",
      "['BLANCO', 'NEGTO', 'ROJO']\n"
     ]
    }
   ],
   "source": [
    "Colors = ['Blanco', 'Negto', 'Rojo']\n",
    "Lower_Color = []\n",
    "capitalized_colors = []\n",
    "\n",
    "for Color in Colors:\n",
    "    Lower_Color.append(Color.lower())\n",
    "    capitalized_colors.append(Color.upper())\n",
    "print(Lower_Color)\n",
    "print(capitalized_colors)"
   ]
  },
  {
   "cell_type": "code",
   "execution_count": 15,
   "id": "be3e7b18",
   "metadata": {},
   "outputs": [
    {
     "name": "stdout",
     "output_type": "stream",
     "text": [
      "Mary 30\n",
      "Pablo 45\n"
     ]
    }
   ],
   "source": [
    "Students = {'Mary': 30, 'Pablo': 45}\n",
    "\n",
    "for Name, Age in Students.items():\n",
    "    print(Name, Age)"
   ]
  },
  {
   "cell_type": "code",
   "execution_count": null,
   "id": "39175e9f",
   "metadata": {},
   "outputs": [],
   "source": [
    "fruits = {'Naranja': 4, 'Banano': 10}\n",
    "count = 0\n",
    "\n",
    "for elemnt in fruits:"
   ]
  }
 ],
 "metadata": {
  "kernelspec": {
   "display_name": "base",
   "language": "python",
   "name": "python3"
  },
  "language_info": {
   "codemirror_mode": {
    "name": "ipython",
    "version": 3
   },
   "file_extension": ".py",
   "mimetype": "text/x-python",
   "name": "python",
   "nbconvert_exporter": "python",
   "pygments_lexer": "ipython3",
   "version": "3.12.7"
  }
 },
 "nbformat": 4,
 "nbformat_minor": 5
}
