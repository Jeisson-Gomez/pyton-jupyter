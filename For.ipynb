{
 "cells": [
  {
   "cell_type": "markdown",
   "id": "0f370d7f",
   "metadata": {},
   "source": [
    "# for in list\n"
   ]
  },
  {
   "cell_type": "code",
   "execution_count": 3,
   "id": "b0b482b7",
   "metadata": {},
   "outputs": [
    {
     "name": "stdout",
     "output_type": "stream",
     "text": [
      "1\n",
      "2\n",
      "3\n",
      "4\n"
     ]
    }
   ],
   "source": [
    "Numbers = [ 1, 2, 3, 4 ]\n",
    "\n",
    "for Number in Numbers:\n",
    "    print(Number)"
   ]
  }
 ],
 "metadata": {
  "kernelspec": {
   "display_name": "base",
   "language": "python",
   "name": "python3"
  },
  "language_info": {
   "codemirror_mode": {
    "name": "ipython",
    "version": 3
   },
   "file_extension": ".py",
   "mimetype": "text/x-python",
   "name": "python",
   "nbconvert_exporter": "python",
   "pygments_lexer": "ipython3",
   "version": "3.12.7"
  }
 },
 "nbformat": 4,
 "nbformat_minor": 5
}
