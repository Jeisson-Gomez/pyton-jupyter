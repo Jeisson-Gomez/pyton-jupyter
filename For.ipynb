{
 "cells": [
  {
   "cell_type": "markdown",
   "id": "0f370d7f",
   "metadata": {},
   "source": [
    "# for in list\n"
   ]
  },
  {
   "cell_type": "code",
   "execution_count": 4,
   "id": "b0b482b7",
   "metadata": {},
   "outputs": [
    {
     "name": "stdout",
     "output_type": "stream",
     "text": [
      "0\n",
      "1\n",
      "2\n",
      "3\n"
     ]
    }
   ],
   "source": [
    "Numbers = [ 1, 2, 3, 4 ]\n",
    "\n",
    "# for Number in Numbers:\n",
    "    # print(Number)\n",
    "\n",
    "# range(0. 9, 1)\n",
    "for Number in range (4):\n",
    "    print(Number)"
   ]
  }
 ],
 "metadata": {
  "kernelspec": {
   "display_name": "base",
   "language": "python",
   "name": "python3"
  },
  "language_info": {
   "codemirror_mode": {
    "name": "ipython",
    "version": 3
   },
   "file_extension": ".py",
   "mimetype": "text/x-python",
   "name": "python",
   "nbconvert_exporter": "python",
   "pygments_lexer": "ipython3",
   "version": "3.12.7"
  }
 },
 "nbformat": 4,
 "nbformat_minor": 5
}
