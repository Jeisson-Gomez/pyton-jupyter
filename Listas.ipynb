{
 "cells": [
  {
   "cell_type": "code",
   "execution_count": 1,
   "id": "024da849",
   "metadata": {},
   "outputs": [
    {
     "name": "stdout",
     "output_type": "stream",
     "text": [
      "[60, 7.8, 'string', True]\n",
      "7.8\n",
      "True\n",
      "[60, 7.8]\n",
      "[60, 7.8]\n",
      "[7.8, 'string', True]\n"
     ]
    }
   ],
   "source": [
    "list_things = [60, 7.8, 'string', True]\n",
    "print(list_things)\n",
    "print(list_things[1])\n",
    "print(list_things[-1])\n",
    "\n",
    "#Slicing\n",
    "print(list_things[0:2])\n",
    "\n",
    "print(list_things[:2])\n",
    "print(list_things[1:])"
   ]
  },
  {
   "cell_type": "code",
   "execution_count": 2,
   "id": "1fdcacd6",
   "metadata": {},
   "outputs": [
    {
     "name": "stdout",
     "output_type": "stream",
     "text": [
      "True\n"
     ]
    }
   ],
   "source": [
    "#Not in, in\n",
    "\n",
    "List_numbers = [1,2,3,4,5]\n",
    "print(2 in List_numbers)"
   ]
  },
  {
   "cell_type": "code",
   "execution_count": 3,
   "id": "b5583aac",
   "metadata": {},
   "outputs": [
    {
     "name": "stdout",
     "output_type": "stream",
     "text": [
      "['tres', 4, 5, 6]\n"
     ]
    }
   ],
   "source": [
    "#Mutability\n",
    "\n",
    "Numbers = [3, 4, 5, 6]\n",
    "Numbers[0] = 'tres'\n",
    "print(Numbers)\n",
    "\n",
    "World = 'Hello World'\n",
    "#World[0] = 'J'\n",
    "#print(World[0])"
   ]
  },
  {
   "cell_type": "code",
   "execution_count": 4,
   "id": "f1ffccfe",
   "metadata": {},
   "outputs": [
    {
     "name": "stdout",
     "output_type": "stream",
     "text": [
      "tres\n",
      "e\n"
     ]
    }
   ],
   "source": [
    "# Order\n",
    "\n",
    "print(Numbers[0])\n",
    "print(World[1])"
   ]
  },
  {
   "cell_type": "code",
   "execution_count": 5,
   "id": "d87ae657",
   "metadata": {},
   "outputs": [
    {
     "name": "stdout",
     "output_type": "stream",
     "text": [
      "5\n",
      "4\n"
     ]
    }
   ],
   "source": [
    "# len\n",
    "numbers = [40, 50, 2, 34, 5]\n",
    "letters = ['b', 'y', 'u', 'i']\n",
    "\n",
    "print(len(numbers))\n",
    "print(len(letters))"
   ]
  },
  {
   "cell_type": "code",
   "execution_count": 6,
   "id": "bfd8f6dc",
   "metadata": {},
   "outputs": [
    {
     "name": "stdout",
     "output_type": "stream",
     "text": [
      "50\n",
      "y\n"
     ]
    }
   ],
   "source": [
    "# max\n",
    "list_mix = [34, 'y', 9.6]\n",
    "\n",
    "print(max(numbers))\n",
    "print(max(letters))"
   ]
  },
  {
   "cell_type": "code",
   "execution_count": 7,
   "id": "2937158c",
   "metadata": {},
   "outputs": [
    {
     "name": "stdout",
     "output_type": "stream",
     "text": [
      "2\n",
      "b\n"
     ]
    }
   ],
   "source": [
    "# min\n",
    "print(min(numbers))\n",
    "print(min(letters))"
   ]
  },
  {
   "cell_type": "code",
   "execution_count": 8,
   "id": "a473e21c",
   "metadata": {},
   "outputs": [
    {
     "name": "stdout",
     "output_type": "stream",
     "text": [
      "[2, 5, 34, 40, 50]\n",
      "[40, 50, 2, 34, 5]\n"
     ]
    }
   ],
   "source": [
    "#sorted\n",
    "\n",
    "print(sorted(numbers))\n",
    "print(numbers)"
   ]
  },
  {
   "cell_type": "code",
   "execution_count": 11,
   "id": "78acac95",
   "metadata": {},
   "outputs": [
    {
     "name": "stdout",
     "output_type": "stream",
     "text": [
      "Steven - Paul - John\n",
      "Carol & Jose\n"
     ]
    }
   ],
   "source": [
    "# join\n",
    "print(' - '.join(['Steven', 'Paul', 'John']))\n",
    "print(' & '.join(['Carol', 'Jose']))"
   ]
  },
  {
   "cell_type": "code",
   "execution_count": null,
   "id": "9cd2d5df",
   "metadata": {},
   "outputs": [],
   "source": []
  }
 ],
 "metadata": {
  "kernelspec": {
   "display_name": "base",
   "language": "python",
   "name": "python3"
  },
  "language_info": {
   "codemirror_mode": {
    "name": "ipython",
    "version": 3
   },
   "file_extension": ".py",
   "mimetype": "text/x-python",
   "name": "python",
   "nbconvert_exporter": "python",
   "pygments_lexer": "ipython3",
   "version": "3.13.5"
  }
 },
 "nbformat": 4,
 "nbformat_minor": 5
}
