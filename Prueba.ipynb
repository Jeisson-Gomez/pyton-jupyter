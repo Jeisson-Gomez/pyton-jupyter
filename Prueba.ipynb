{
 "cells": [
  {
   "cell_type": "code",
   "execution_count": 79,
   "id": "3c4ee396",
   "metadata": {},
   "outputs": [
    {
     "name": "stdout",
     "output_type": "stream",
     "text": [
      "['a', 'b', 'g', 'f', 'm', 3]\n",
      "['a', 'b', 'g', 'f', 'm', 3, 'v', 'w']\n",
      "['b', 'g', 'f', 'm', 3, 'v', 'w']\n",
      "['b', 'g', 'f', 'm', 'v', 'w']\n"
     ]
    }
   ],
   "source": [
    "# append\n",
    "Letters = ['a', 'b', 'g', 'f']\n",
    "Letters.append('m' )\n",
    "Letters.append(3)\n",
    "#Letters.append(['v', 'w'])\n",
    "\n",
    "print(Letters)\n",
    "\n",
    "# extend\n",
    "Letters.extend(['v', 'w'])\n",
    "\n",
    "print(Letters)\n",
    "\n",
    "# remove\n",
    "Letters.remove('a')\n",
    "\n",
    "print(Letters)\n",
    "\n",
    "# pop\n",
    "Letters.pop(-3)\n",
    "\n",
    "print(Letters)"
   ]
  },
  {
   "cell_type": "markdown",
   "id": "f667c972",
   "metadata": {},
   "source": [
    "Tupeles\n"
   ]
  },
  {
   "cell_type": "code",
   "execution_count": 80,
   "id": "7795164a",
   "metadata": {},
   "outputs": [
    {
     "name": "stdout",
     "output_type": "stream",
     "text": [
      "34.567\n",
      "dimensions length: 45 width: 67 height: 90\n"
     ]
    }
   ],
   "source": [
    "local_home = (34.567, 56.890)\n",
    "print(local_home[0])\n",
    "\n",
    "# local_home[ 0 ] = 67.78\n",
    "\n",
    "dimensions = 45, 67, 90\n",
    "length, width, height = dimensions\n",
    "print('dimensions length: {} width: {} height: {}'.format(length, width, height))"
   ]
  },
  {
   "cell_type": "markdown",
   "id": "4d6a6aae",
   "metadata": {},
   "source": [
    "Sets\n"
   ]
  },
  {
   "cell_type": "code",
   "execution_count": 81,
   "id": "b7ba9c35",
   "metadata": {},
   "outputs": [
    {
     "name": "stdout",
     "output_type": "stream",
     "text": [
      "{4, 6, 8, 9, 10}\n",
      "False\n",
      "{'Aguacate', 'Naranja', 'Arandanos', 'Mandarina', 'Banano', 'Mango'}\n",
      "{'Naranja', 'Arandanos', 'Mandarina', 'Banano', 'Mango'}\n"
     ]
    }
   ],
   "source": [
    "Numbers = [4, 6, 8, 8, 9, 10, 10]\n",
    "Unique_number = set (Numbers)\n",
    "print(Unique_number)\n",
    "\n",
    "fruits = {'Banano', 'Arandanos',  'Naranja',  'Mandarina'}\n",
    "print('mango' in fruits)\n",
    "\n",
    "fruits.add('Mango')\n",
    "fruits.add('Aguacate')\n",
    "print(fruits)\n",
    "\n",
    "fruits.pop()\n",
    "print(fruits)"
   ]
  },
  {
   "cell_type": "markdown",
   "id": "b6462ef3",
   "metadata": {},
   "source": [
    "Diccionarios\n"
   ]
  },
  {
   "cell_type": "code",
   "execution_count": 82,
   "id": "69570296",
   "metadata": {},
   "outputs": [
    {
     "name": "stdout",
     "output_type": "stream",
     "text": [
      "no found\n",
      "None\n",
      "New York\n",
      "{1: 'Juan', 2: 'Julian'}\n",
      "{1: 'Juan', 2: 'Julian', 3: 'Mario'}\n",
      "{2: 'Julian', 3: 'Mario'}\n",
      "False\n"
     ]
    }
   ],
   "source": [
    "Elements = {'name': 'Mark', 'lastname': 'Harry', 'age': 30}\n",
    "# print(Elements['name'])\n",
    "# print(Elements['lastname'])\n",
    "# print(Elements['age'])\n",
    "\n",
    "# Get\n",
    "print(Elements.get('hobbie', 'no found'))\n",
    "\n",
    "dic_students = {10: 'Stiven', 2: 'John', 3: 'paul'}\n",
    "print(dic_students.get(1))\n",
    "\n",
    "dic_coordenadas = {(100, 400): 'New York', (300, 500): 'florida'}\n",
    "print(dic_coordenadas.get((100, 400)))\n",
    "\n",
    "Dic_workers = {1: 'Juan', 2: 'Julian'}\n",
    "print(Dic_workers)\n",
    "\n",
    "Dic_workers[3]  = 'Mario'\n",
    "print(Dic_workers)\n",
    "\n",
    "#pop\n",
    "Dic_workers.pop(1)\n",
    "print(Dic_workers)\n",
    "\n",
    "# Not, in, in\n",
    "\n",
    "print(3 not in Dic_workers)"
   ]
  },
  {
   "cell_type": "markdown",
   "id": "118a36d5",
   "metadata": {},
   "source": []
  }
 ],
 "metadata": {
  "kernelspec": {
   "display_name": "Python 3",
   "language": "python",
   "name": "python3"
  },
  "language_info": {
   "codemirror_mode": {
    "name": "ipython",
    "version": 3
   },
   "file_extension": ".py",
   "mimetype": "text/x-python",
   "name": "python",
   "nbconvert_exporter": "python",
   "pygments_lexer": "ipython3",
   "version": "3.12.10"
  }
 },
 "nbformat": 4,
 "nbformat_minor": 5
}
