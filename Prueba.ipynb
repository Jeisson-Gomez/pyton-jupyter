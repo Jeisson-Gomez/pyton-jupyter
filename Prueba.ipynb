{
 "cells": [
  {
   "cell_type": "code",
   "execution_count": 14,
   "id": "3c4ee396",
   "metadata": {},
   "outputs": [
    {
     "name": "stdout",
     "output_type": "stream",
     "text": [
      "['a', 'b', 'g', 'f', 'm', 3]\n",
      "['a', 'b', 'g', 'f', 'm', 3, 'v', 'w']\n",
      "['b', 'g', 'f', 'm', 3, 'v', 'w']\n",
      "['b', 'g', 'f', 'm', 'v', 'w']\n"
     ]
    }
   ],
   "source": [
    "# append\n",
    "Letters = ['a', 'b', 'g', 'f']\n",
    "Letters.append('m' )\n",
    "Letters.append(3)\n",
    "#Letters.append(['v', 'w'])\n",
    "\n",
    "print(Letters)\n",
    "\n",
    "# extend\n",
    "Letters.extend(['v', 'w'])\n",
    "\n",
    "print(Letters)\n",
    "\n",
    "# remove\n",
    "Letters.remove('a')\n",
    "\n",
    "print(Letters)\n",
    "\n",
    "# pop\n",
    "Letters.pop(-3)\n",
    "\n",
    "print(Letters)"
   ]
  },
  {
   "cell_type": "markdown",
   "id": "f667c972",
   "metadata": {},
   "source": [
    "Tupeles\n"
   ]
  },
  {
   "cell_type": "code",
   "execution_count": 4,
   "id": "7795164a",
   "metadata": {},
   "outputs": [
    {
     "name": "stdout",
     "output_type": "stream",
     "text": [
      "34.567\n",
      "dimensions length: 45 width: 67 height: 90\n"
     ]
    }
   ],
   "source": [
    "local_home = (34.567, 56.890)\n",
    "print(local_home[0])\n",
    "\n",
    "# local_home[ 0 ] = 67.78\n",
    "\n",
    "dimensions = 45, 67, 90\n",
    "length, width, height = dimensions\n",
    "print('dimensions length: {} width: {} height: {}'.format(length, width, height))"
   ]
  },
  {
   "cell_type": "markdown",
   "id": "4d6a6aae",
   "metadata": {},
   "source": [
    "Sets"
   ]
  },
  {
   "cell_type": "code",
   "execution_count": null,
   "id": "b7ba9c35",
   "metadata": {},
   "outputs": [],
   "source": []
  }
 ],
 "metadata": {
  "kernelspec": {
   "display_name": "Python 3",
   "language": "python",
   "name": "python3"
  },
  "language_info": {
   "codemirror_mode": {
    "name": "ipython",
    "version": 3
   },
   "file_extension": ".py",
   "mimetype": "text/x-python",
   "name": "python",
   "nbconvert_exporter": "python",
   "pygments_lexer": "ipython3",
   "version": "3.12.10"
  }
 },
 "nbformat": 4,
 "nbformat_minor": 5
}
