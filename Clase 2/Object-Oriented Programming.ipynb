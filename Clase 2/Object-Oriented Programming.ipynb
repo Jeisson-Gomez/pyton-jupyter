{
 "cells": [
  {
   "cell_type": "markdown",
   "id": "65a46642",
   "metadata": {},
   "source": [
    "Method"
   ]
  },
  {
   "cell_type": "code",
   "execution_count": 3,
   "id": "4c5b8b49",
   "metadata": {},
   "outputs": [],
   "source": [
    "class Worker:\n",
    "    def __init__(self, name, age):\n",
    "        self.name = name\n",
    "        self.age = age\n",
    "    \n",
    "    def set_salary(self, salary):\n",
    "        self.salary = salary\n",
    "\n",
    "    # getters\n",
    "\n",
    "    def get_net_salary(self):\n",
    "        return 0.9 *self.salary"
   ]
  },
  {
   "cell_type": "code",
   "execution_count": 5,
   "id": "ad0bd20a",
   "metadata": {},
   "outputs": [
    {
     "name": "stdout",
     "output_type": "stream",
     "text": [
      "Juan\n",
      "49\n"
     ]
    }
   ],
   "source": [
    "Worker_one = Worker('Juan', 49)\n",
    "# print(Worker)\n",
    "\n",
    "print(Worker_one.name)\n",
    "print(Worker_one.age)"
   ]
  }
 ],
 "metadata": {
  "kernelspec": {
   "display_name": "base",
   "language": "python",
   "name": "python3"
  },
  "language_info": {
   "codemirror_mode": {
    "name": "ipython",
    "version": 3
   },
   "file_extension": ".py",
   "mimetype": "text/x-python",
   "name": "python",
   "nbconvert_exporter": "python",
   "pygments_lexer": "ipython3",
   "version": "3.13.5"
  }
 },
 "nbformat": 4,
 "nbformat_minor": 5
}
