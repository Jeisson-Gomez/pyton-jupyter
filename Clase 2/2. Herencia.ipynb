{
 "cells": [
  {
   "cell_type": "markdown",
   "id": "da91933a",
   "metadata": {},
   "source": [
    "Herencia"
   ]
  },
  {
   "cell_type": "code",
   "execution_count": 21,
   "id": "d9150c69",
   "metadata": {},
   "outputs": [],
   "source": [
    "class Worker:\n",
    "    def __init__(self, name, age):\n",
    "        self.name = name\n",
    "        self.age = age\n",
    "\n",
    "    #setters\n",
    "    def set_salary(self, salary):\n",
    "        self.salary = salary\n",
    "\n",
    "    #getters\n",
    "    def get_net_salary(self):\n",
    "        return 0.9 * self.set_salary\n"
   ]
  },
  {
   "cell_type": "code",
   "execution_count": 22,
   "id": "5f1915cf",
   "metadata": {},
   "outputs": [],
   "source": [
    "class Doctor(Worker):\n",
    "    def __init__(self, name, age, especialidad):\n",
    "        Worker.__init__(self, name, age)\n",
    "        self.especialidad = especialidad\n",
    "    \n",
    "    def schedule_operation(self):\n",
    "        if self.especialidad == 'cardiologo':\n",
    "            return '8 AM'\n",
    "        elif self.especialidad == 'neurologo':\n",
    "            return '4 PM'\n",
    "        else:\n",
    "            return '12 pm'\n",
    "\n",
    "    def get_net_salary(self):\n",
    "        Worker.set_salary(self, 1000)\n",
    "        \n",
    "        if self.especialidad == 'cardiologo':\n",
    "            return self.salary * 1.5\n",
    "        elif self.especialidad == 'neurologo':\n",
    "            return self.salary * 2\n",
    "        else:\n",
    "            return self.salary"
   ]
  },
  {
   "cell_type": "code",
   "execution_count": 24,
   "id": "846c2fa0",
   "metadata": {},
   "outputs": [
    {
     "name": "stdout",
     "output_type": "stream",
     "text": [
      "45\n",
      "12 pm\n",
      "1000\n"
     ]
    }
   ],
   "source": [
    "doctor = Doctor ('Luis', 45, 'Cardiologo')\n",
    "print(doctor.age)\n",
    "\n",
    "print(doctor.schedule_operation())\n",
    "print(doctor.get_net_salary())"
   ]
  }
 ],
 "metadata": {
  "kernelspec": {
   "display_name": "base",
   "language": "python",
   "name": "python3"
  },
  "language_info": {
   "codemirror_mode": {
    "name": "ipython",
    "version": 3
   },
   "file_extension": ".py",
   "mimetype": "text/x-python",
   "name": "python",
   "nbconvert_exporter": "python",
   "pygments_lexer": "ipython3",
   "version": "3.13.5"
  }
 },
 "nbformat": 4,
 "nbformat_minor": 5
}
