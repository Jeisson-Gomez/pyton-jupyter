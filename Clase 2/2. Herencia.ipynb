{
 "cells": [
  {
   "cell_type": "markdown",
   "id": "da91933a",
   "metadata": {},
   "source": [
    "Herencia"
   ]
  },
  {
   "cell_type": "code",
   "execution_count": 2,
   "id": "d9150c69",
   "metadata": {},
   "outputs": [],
   "source": [
    "class Worker:\n",
    "    def __init__(self, name, age):\n",
    "        self.name = name\n",
    "        self.age = age\n",
    "\n",
    "    #setters\n",
    "    def set_salary(self, salary):\n",
    "        self.salary = salary\n",
    "\n",
    "    #getters\n",
    "    def get_net_salary(self):\n",
    "        return 0.9 * self.set_salary\n"
   ]
  },
  {
   "cell_type": "code",
   "execution_count": null,
   "id": "5f1915cf",
   "metadata": {},
   "outputs": [],
   "source": [
    "class Doctor(Worker):\n",
    "    def __init__(self, name, age, salary, specialty):\n",
    "        Worker.__init__(name, age, salary)"
   ]
  }
 ],
 "metadata": {
  "kernelspec": {
   "display_name": "base",
   "language": "python",
   "name": "python3"
  },
  "language_info": {
   "codemirror_mode": {
    "name": "ipython",
    "version": 3
   },
   "file_extension": ".py",
   "mimetype": "text/x-python",
   "name": "python",
   "nbconvert_exporter": "python",
   "pygments_lexer": "ipython3",
   "version": "3.13.5"
  }
 },
 "nbformat": 4,
 "nbformat_minor": 5
}
