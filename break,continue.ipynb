{
 "cells": [
  {
   "cell_type": "code",
   "execution_count": null,
   "id": "d8c01f57",
   "metadata": {},
   "outputs": [
    {
     "name": "stdout",
     "output_type": "stream",
     "text": [
      "April 610\n"
     ]
    }
   ],
   "source": [
    "# Break\n",
    "\n",
    "future_saving = {'January': 130, 'february': 160, 'March': 180, 'April': 140, 'May': 90}\n",
    "final_mounth = ''\n",
    "total = 0\n",
    "\n",
    "for mounth, money in future_saving.items():\n",
    "    total += money\n",
    "    if total >=500:\n",
    "        final_mounth = mounth\n",
    "        break\n",
    "\n",
    "print(final_mounth, total)"
   ]
  },
  {
   "cell_type": "code",
   "execution_count": 5,
   "id": "bdb01b67",
   "metadata": {},
   "outputs": [
    {
     "name": "stdout",
     "output_type": "stream",
     "text": [
      " 520\n"
     ]
    }
   ],
   "source": [
    "# Continue\n",
    "\n",
    "future_saving = {'January': 130, 'february': 160, 'March': 180, 'April': 140, 'May': 90}\n",
    "final_mounth = ''\n",
    "total = 0\n",
    "\n",
    "for mounth, money in future_saving.items():\n",
    "    if mounth == 'March':\n",
    "        continue\n",
    "    total += money\n",
    "\n",
    "print(final_mounth, total)"
   ]
  }
 ],
 "metadata": {
  "kernelspec": {
   "display_name": "Python 3",
   "language": "python",
   "name": "python3"
  },
  "language_info": {
   "codemirror_mode": {
    "name": "ipython",
    "version": 3
   },
   "file_extension": ".py",
   "mimetype": "text/x-python",
   "name": "python",
   "nbconvert_exporter": "python",
   "pygments_lexer": "ipython3",
   "version": "3.12.10"
  }
 },
 "nbformat": 4,
 "nbformat_minor": 5
}
