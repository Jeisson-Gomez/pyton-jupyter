{
 "cells": [
  {
   "cell_type": "code",
   "execution_count": 1,
   "id": "2592785f",
   "metadata": {},
   "outputs": [
    {
     "name": "stdout",
     "output_type": "stream",
     "text": [
      "Hello\n"
     ]
    }
   ],
   "source": [
    "def greetLings():\n",
    "    print('Hello')\n",
    "\n",
    "greetLings()"
   ]
  },
  {
   "cell_type": "code",
   "execution_count": 7,
   "id": "7e47e109",
   "metadata": {},
   "outputs": [
    {
     "name": "stdout",
     "output_type": "stream",
     "text": [
      "28.2744\n",
      "4 None\n"
     ]
    }
   ],
   "source": [
    "def square_area(lado):\n",
    "    return lado **2\n",
    "\n",
    "# square_area(10)\n",
    "\n",
    "def circle_area(radio):\n",
    "    pi = 3.1416\n",
    "    print(pi*radio**2)\n",
    "\n",
    "My_function = square_area(2)\n",
    "My_function_ = circle_area(3)\n",
    "\n",
    "print(My_function, My_function_)\n",
    "# print(pi)\n",
    "# circle_area(4)"
   ]
  },
  {
   "cell_type": "code",
   "execution_count": null,
   "id": "0febfaed",
   "metadata": {},
   "outputs": [],
   "source": [
    "def Square_area(lado=5):\n",
    "    return lado **2"
   ]
  },
  {
   "cell_type": "code",
   "execution_count": 12,
   "id": "273a6ad2",
   "metadata": {},
   "outputs": [
    {
     "ename": "NameError",
     "evalue": "name 'Square_area' is not defined",
     "output_type": "error",
     "traceback": [
      "\u001b[1;31m---------------------------------------------------------------------------\u001b[0m",
      "\u001b[1;31mNameError\u001b[0m                                 Traceback (most recent call last)",
      "Cell \u001b[1;32mIn[12], line 1\u001b[0m\n\u001b[1;32m----> 1\u001b[0m Square_area()\n",
      "\u001b[1;31mNameError\u001b[0m: name 'Square_area' is not defined"
     ]
    }
   ],
   "source": [
    "Square_area()"
   ]
  }
 ],
 "metadata": {
  "kernelspec": {
   "display_name": "base",
   "language": "python",
   "name": "python3"
  },
  "language_info": {
   "codemirror_mode": {
    "name": "ipython",
    "version": 3
   },
   "file_extension": ".py",
   "mimetype": "text/x-python",
   "name": "python",
   "nbconvert_exporter": "python",
   "pygments_lexer": "ipython3",
   "version": "3.13.5"
  }
 },
 "nbformat": 4,
 "nbformat_minor": 5
}
