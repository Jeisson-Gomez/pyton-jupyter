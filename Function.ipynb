{
 "cells": [
  {
   "cell_type": "code",
   "execution_count": null,
   "id": "2592785f",
   "metadata": {},
   "outputs": [
    {
     "ename": "",
     "evalue": "",
     "output_type": "error",
     "traceback": [
      "\u001b[1;31mLa ejecución de celdas con 'Python 3.13.5' requiere el paquete ipykernel.\n",
      "\u001b[1;31m<a href='command:jupyter.createPythonEnvAndSelectController'>Crear un entorno de Python</a> con los paquetes necesarios."
     ]
    }
   ],
   "source": [
    "def greetLings():\n",
    "    print('Hello')\n",
    "\n",
    "greetLings()"
   ]
  },
  {
   "cell_type": "code",
   "execution_count": null,
   "id": "13d3be3d",
   "metadata": {},
   "outputs": [],
   "source": [
    "def Square_Area():\n",
    "    return lado ** 2\n",
    "\n",
    "Square_Area()"
   ]
  }
 ],
 "metadata": {
  "kernelspec": {
   "display_name": "Python 3",
   "language": "python",
   "name": "python3"
  },
  "language_info": {
   "codemirror_mode": {
    "name": "ipython",
    "version": 3
   },
   "file_extension": ".py",
   "mimetype": "text/x-python",
   "name": "python",
   "nbconvert_exporter": "python",
   "pygments_lexer": "ipython3",
   "version": "3.13.5"
  }
 },
 "nbformat": 4,
 "nbformat_minor": 5
}
